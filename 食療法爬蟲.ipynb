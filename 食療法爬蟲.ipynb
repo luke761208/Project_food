{
 "cells": [
  {
   "cell_type": "code",
   "execution_count": 231,
   "metadata": {
    "ExecuteTime": {
     "end_time": "2021-07-26T15:23:25.387367Z",
     "start_time": "2021-07-26T15:22:27.318596Z"
    },
    "scrolled": true
   },
   "outputs": [
    {
     "name": "stdout",
     "output_type": "stream",
     "text": [
      "维生素A\n",
      "https://www.meishichina.com/yingyang/VitaminA/\n",
      "{'牛肝': '20220'}\n",
      "{'鸡肝': '10414'}\n",
      "{'鹅肝': '6100'}\n",
      "{'猪肝': '4972'}\n",
      "{'秋葵': '2818.00'}\n",
      "{'枸杞': '1625'}\n",
      "{'莲藕': '1592.00'}\n",
      "{'西兰花': '1202'}\n",
      "{'鸭肝': '1040'}\n",
      "{'鸡心': '910'}\n",
      "{'菠菜': '487'}\n",
      "{'豆苗': '445'}\n",
      "{'荠菜': '432'}\n",
      "{'莴苣叶': '432.00'}\n",
      "{'豆瓣辣酱': '417'}\n",
      "{'紫菜': '403'}\n",
      "{'牛排': '371.30'}\n",
      "{'黄花菜': '357'}\n",
      "{'苋菜': '352'}\n",
      "{'马兰头': '340'}\n",
      "========================================================================================================================\n",
      "维生素B1\n",
      "https://www.meishichina.com/yingyang/VitaminB1/\n",
      "{'瓜子仁': '1.89'}\n",
      "{'猪大排': '0.8'}\n",
      "{'排骨': '0.8'}\n",
      "{'猪排': '0.8'}\n",
      "{'黑芝麻': '0.66'}\n",
      "{'芝麻': '0.66'}\n",
      "{'香肠': '0.48'}\n",
      "{'紫菜': '0.44'}\n",
      "{'豌豆': '0.43'}\n",
      "{'黄豆': '0.41'}\n",
      "{'青豆': '0.41'}\n",
      "{'小麦': '0.4'}\n",
      "{'莜麦面': '0.39'}\n",
      "{'枸杞': '0.35'}\n",
      "{'狗肉': '0.34'}\n",
      "{'黑米': '0.33'}\n",
      "{'猪腰': '0.31'}\n",
      "{'百叶结': '0.31'}\n",
      "{'血糯米': '0.31'}\n",
      "{'猪小排': '0.3'}\n",
      "========================================================================================================================\n",
      "维生素B2\n",
      "https://www.meishichina.com/yingyang/VitaminB2/\n",
      "{'猪肝': '2.08'}\n",
      "{'紫菜': '2.07'}\n",
      "{'干松茸': '1.48'}\n",
      "{'干香菇': '1.26'}\n",
      "{'猪腰': '1.14'}\n",
      "{'鸭肝': '1.05'}\n",
      "{'黄鳝': '0.98'}\n",
      "{'杏仁': '0.81'}\n",
      "{'鹌鹑蛋': '0.49'}\n",
      "{'猪心': '0.48'}\n",
      "{'枸杞': '0.46'}\n",
      "{'羊心': '0.4'}\n",
      "{'牛心': '0.39'}\n",
      "{'罗汉果': '0.38'}\n",
      "{'牛油果': '0.38'}\n",
      "{'鸭蛋': '0.35'}\n",
      "{'鸭肉': '0.34'}\n",
      "{'草菇': '0.34'}\n",
      "{'泥鳅': '0.33'}\n",
      "{'海虹': '0.32'}\n",
      "========================================================================================================================\n",
      "维生素B3\n",
      "https://www.meishichina.com/yingyang/VitaminB3/\n",
      "========================================================================================================================\n",
      "维生素B5\n",
      "https://www.meishichina.com/yingyang/VitaminB5/\n",
      "========================================================================================================================\n",
      "维生素B6\n",
      "https://www.meishichina.com/yingyang/VitaminB6/\n",
      "{'玉米片': '1.8'}\n",
      "{'猪肝': '0.29'}\n",
      "{'鸡翅': '0.26'}\n",
      "{'韭菜': '0.2'}\n",
      "{'西兰花': '0.17'}\n",
      "{'胡萝卜': '0.16'}\n",
      "{'沙丁鱼': '0.16'}\n",
      "{'鸡腿': '0.14'}\n",
      "{'猪舌': '0.14'}\n",
      "{'菜花': '0.11'}\n",
      "{'丝瓜': '0.11'}\n",
      "{'鲢鱼': '0.1'}\n",
      "{'鲫鱼': '0.1'}\n",
      "{'乌江鱼': '0.1'}\n",
      "{'扁豆': '0.1'}\n",
      "{'草鱼': '0.1'}\n",
      "{'芋头': '0.1'}\n",
      "{'平菇': '0.09'}\n",
      "{'青萝卜': '0.08'}\n",
      "{'腊肉': '0.08'}\n",
      "========================================================================================================================\n",
      "维生素C\n",
      "https://www.meishichina.com/yingyang/VitaminC/\n",
      "{'秋葵': '846.00'}\n",
      "{'上海青': '187.00'}\n",
      "{'青蒜': '79.00'}\n",
      "{'青椒': '72'}\n",
      "{'菜椒': '72'}\n",
      "{'豆苗': '67'}\n",
      "{'花菜': '65.00'}\n",
      "{'猕猴桃': '62'}\n",
      "{'黄花菜': '62'}\n",
      "{'菜花': '61'}\n",
      "{'乌塌菜': '57.00'}\n",
      "{'苦瓜': '56'}\n",
      "{'莲藕': '52.00'}\n",
      "{'西兰花': '51'}\n",
      "{'香菜': '48'}\n",
      "{'枸杞': '48'}\n",
      "{'草莓': '47'}\n",
      "{'苋菜': '47'}\n",
      "{'芦笋': '45'}\n",
      "{'心里美萝卜': '45.00'}\n",
      "========================================================================================================================\n",
      "维生素D\n",
      "https://www.meishichina.com/yingyang/VitaminD/\n"
     ]
    },
    {
     "ename": "KeyboardInterrupt",
     "evalue": "",
     "output_type": "error",
     "traceback": [
      "\u001b[1;31m---------------------------------------------------------------------------\u001b[0m",
      "\u001b[1;31mKeyboardInterrupt\u001b[0m                         Traceback (most recent call last)",
      "\u001b[1;32m<ipython-input-231-f90bc29bb18d>\u001b[0m in \u001b[0;36m<module>\u001b[1;34m\u001b[0m\n\u001b[0;32m     34\u001b[0m \u001b[1;31m########################################################\u001b[0m\u001b[1;33m\u001b[0m\u001b[1;33m\u001b[0m\u001b[1;33m\u001b[0m\u001b[0m\n\u001b[0;32m     35\u001b[0m         \u001b[0murl\u001b[0m \u001b[1;33m=\u001b[0m \u001b[0mlink\u001b[0m\u001b[1;33m\u001b[0m\u001b[1;33m\u001b[0m\u001b[0m\n\u001b[1;32m---> 36\u001b[1;33m         \u001b[0mres\u001b[0m \u001b[1;33m=\u001b[0m \u001b[0mrequests\u001b[0m\u001b[1;33m.\u001b[0m\u001b[0mget\u001b[0m\u001b[1;33m(\u001b[0m\u001b[0murl\u001b[0m\u001b[1;33m,\u001b[0m \u001b[0mheaders\u001b[0m\u001b[1;33m=\u001b[0m\u001b[0mheaders\u001b[0m\u001b[1;33m)\u001b[0m\u001b[1;33m\u001b[0m\u001b[1;33m\u001b[0m\u001b[0m\n\u001b[0m\u001b[0;32m     37\u001b[0m         \u001b[0mres\u001b[0m\u001b[1;33m.\u001b[0m\u001b[0mencoding\u001b[0m \u001b[1;33m=\u001b[0m \u001b[1;34m'utf-8'\u001b[0m\u001b[1;33m\u001b[0m\u001b[1;33m\u001b[0m\u001b[0m\n\u001b[0;32m     38\u001b[0m \u001b[1;31m#         soup = BeautifulSoup(res.text, 'html.parser')\u001b[0m\u001b[1;33m\u001b[0m\u001b[1;33m\u001b[0m\u001b[1;33m\u001b[0m\u001b[0m\n",
      "\u001b[1;32m~\\anaconda3\\lib\\site-packages\\requests\\api.py\u001b[0m in \u001b[0;36mget\u001b[1;34m(url, params, **kwargs)\u001b[0m\n\u001b[0;32m     74\u001b[0m \u001b[1;33m\u001b[0m\u001b[0m\n\u001b[0;32m     75\u001b[0m     \u001b[0mkwargs\u001b[0m\u001b[1;33m.\u001b[0m\u001b[0msetdefault\u001b[0m\u001b[1;33m(\u001b[0m\u001b[1;34m'allow_redirects'\u001b[0m\u001b[1;33m,\u001b[0m \u001b[1;32mTrue\u001b[0m\u001b[1;33m)\u001b[0m\u001b[1;33m\u001b[0m\u001b[1;33m\u001b[0m\u001b[0m\n\u001b[1;32m---> 76\u001b[1;33m     \u001b[1;32mreturn\u001b[0m \u001b[0mrequest\u001b[0m\u001b[1;33m(\u001b[0m\u001b[1;34m'get'\u001b[0m\u001b[1;33m,\u001b[0m \u001b[0murl\u001b[0m\u001b[1;33m,\u001b[0m \u001b[0mparams\u001b[0m\u001b[1;33m=\u001b[0m\u001b[0mparams\u001b[0m\u001b[1;33m,\u001b[0m \u001b[1;33m**\u001b[0m\u001b[0mkwargs\u001b[0m\u001b[1;33m)\u001b[0m\u001b[1;33m\u001b[0m\u001b[1;33m\u001b[0m\u001b[0m\n\u001b[0m\u001b[0;32m     77\u001b[0m \u001b[1;33m\u001b[0m\u001b[0m\n\u001b[0;32m     78\u001b[0m \u001b[1;33m\u001b[0m\u001b[0m\n",
      "\u001b[1;32m~\\anaconda3\\lib\\site-packages\\requests\\api.py\u001b[0m in \u001b[0;36mrequest\u001b[1;34m(method, url, **kwargs)\u001b[0m\n\u001b[0;32m     59\u001b[0m     \u001b[1;31m# cases, and look like a memory leak in others.\u001b[0m\u001b[1;33m\u001b[0m\u001b[1;33m\u001b[0m\u001b[1;33m\u001b[0m\u001b[0m\n\u001b[0;32m     60\u001b[0m     \u001b[1;32mwith\u001b[0m \u001b[0msessions\u001b[0m\u001b[1;33m.\u001b[0m\u001b[0mSession\u001b[0m\u001b[1;33m(\u001b[0m\u001b[1;33m)\u001b[0m \u001b[1;32mas\u001b[0m \u001b[0msession\u001b[0m\u001b[1;33m:\u001b[0m\u001b[1;33m\u001b[0m\u001b[1;33m\u001b[0m\u001b[0m\n\u001b[1;32m---> 61\u001b[1;33m         \u001b[1;32mreturn\u001b[0m \u001b[0msession\u001b[0m\u001b[1;33m.\u001b[0m\u001b[0mrequest\u001b[0m\u001b[1;33m(\u001b[0m\u001b[0mmethod\u001b[0m\u001b[1;33m=\u001b[0m\u001b[0mmethod\u001b[0m\u001b[1;33m,\u001b[0m \u001b[0murl\u001b[0m\u001b[1;33m=\u001b[0m\u001b[0murl\u001b[0m\u001b[1;33m,\u001b[0m \u001b[1;33m**\u001b[0m\u001b[0mkwargs\u001b[0m\u001b[1;33m)\u001b[0m\u001b[1;33m\u001b[0m\u001b[1;33m\u001b[0m\u001b[0m\n\u001b[0m\u001b[0;32m     62\u001b[0m \u001b[1;33m\u001b[0m\u001b[0m\n\u001b[0;32m     63\u001b[0m \u001b[1;33m\u001b[0m\u001b[0m\n",
      "\u001b[1;32m~\\anaconda3\\lib\\site-packages\\requests\\sessions.py\u001b[0m in \u001b[0;36mrequest\u001b[1;34m(self, method, url, params, data, headers, cookies, files, auth, timeout, allow_redirects, proxies, hooks, stream, verify, cert, json)\u001b[0m\n\u001b[0;32m    528\u001b[0m         }\n\u001b[0;32m    529\u001b[0m         \u001b[0msend_kwargs\u001b[0m\u001b[1;33m.\u001b[0m\u001b[0mupdate\u001b[0m\u001b[1;33m(\u001b[0m\u001b[0msettings\u001b[0m\u001b[1;33m)\u001b[0m\u001b[1;33m\u001b[0m\u001b[1;33m\u001b[0m\u001b[0m\n\u001b[1;32m--> 530\u001b[1;33m         \u001b[0mresp\u001b[0m \u001b[1;33m=\u001b[0m \u001b[0mself\u001b[0m\u001b[1;33m.\u001b[0m\u001b[0msend\u001b[0m\u001b[1;33m(\u001b[0m\u001b[0mprep\u001b[0m\u001b[1;33m,\u001b[0m \u001b[1;33m**\u001b[0m\u001b[0msend_kwargs\u001b[0m\u001b[1;33m)\u001b[0m\u001b[1;33m\u001b[0m\u001b[1;33m\u001b[0m\u001b[0m\n\u001b[0m\u001b[0;32m    531\u001b[0m \u001b[1;33m\u001b[0m\u001b[0m\n\u001b[0;32m    532\u001b[0m         \u001b[1;32mreturn\u001b[0m \u001b[0mresp\u001b[0m\u001b[1;33m\u001b[0m\u001b[1;33m\u001b[0m\u001b[0m\n",
      "\u001b[1;32m~\\anaconda3\\lib\\site-packages\\requests\\sessions.py\u001b[0m in \u001b[0;36msend\u001b[1;34m(self, request, **kwargs)\u001b[0m\n\u001b[0;32m    641\u001b[0m \u001b[1;33m\u001b[0m\u001b[0m\n\u001b[0;32m    642\u001b[0m         \u001b[1;31m# Send the request\u001b[0m\u001b[1;33m\u001b[0m\u001b[1;33m\u001b[0m\u001b[1;33m\u001b[0m\u001b[0m\n\u001b[1;32m--> 643\u001b[1;33m         \u001b[0mr\u001b[0m \u001b[1;33m=\u001b[0m \u001b[0madapter\u001b[0m\u001b[1;33m.\u001b[0m\u001b[0msend\u001b[0m\u001b[1;33m(\u001b[0m\u001b[0mrequest\u001b[0m\u001b[1;33m,\u001b[0m \u001b[1;33m**\u001b[0m\u001b[0mkwargs\u001b[0m\u001b[1;33m)\u001b[0m\u001b[1;33m\u001b[0m\u001b[1;33m\u001b[0m\u001b[0m\n\u001b[0m\u001b[0;32m    644\u001b[0m \u001b[1;33m\u001b[0m\u001b[0m\n\u001b[0;32m    645\u001b[0m         \u001b[1;31m# Total elapsed time of the request (approximately)\u001b[0m\u001b[1;33m\u001b[0m\u001b[1;33m\u001b[0m\u001b[1;33m\u001b[0m\u001b[0m\n",
      "\u001b[1;32m~\\anaconda3\\lib\\site-packages\\requests\\adapters.py\u001b[0m in \u001b[0;36msend\u001b[1;34m(self, request, stream, timeout, verify, cert, proxies)\u001b[0m\n\u001b[0;32m    437\u001b[0m         \u001b[1;32mtry\u001b[0m\u001b[1;33m:\u001b[0m\u001b[1;33m\u001b[0m\u001b[1;33m\u001b[0m\u001b[0m\n\u001b[0;32m    438\u001b[0m             \u001b[1;32mif\u001b[0m \u001b[1;32mnot\u001b[0m \u001b[0mchunked\u001b[0m\u001b[1;33m:\u001b[0m\u001b[1;33m\u001b[0m\u001b[1;33m\u001b[0m\u001b[0m\n\u001b[1;32m--> 439\u001b[1;33m                 resp = conn.urlopen(\n\u001b[0m\u001b[0;32m    440\u001b[0m                     \u001b[0mmethod\u001b[0m\u001b[1;33m=\u001b[0m\u001b[0mrequest\u001b[0m\u001b[1;33m.\u001b[0m\u001b[0mmethod\u001b[0m\u001b[1;33m,\u001b[0m\u001b[1;33m\u001b[0m\u001b[1;33m\u001b[0m\u001b[0m\n\u001b[0;32m    441\u001b[0m                     \u001b[0murl\u001b[0m\u001b[1;33m=\u001b[0m\u001b[0murl\u001b[0m\u001b[1;33m,\u001b[0m\u001b[1;33m\u001b[0m\u001b[1;33m\u001b[0m\u001b[0m\n",
      "\u001b[1;32m~\\anaconda3\\lib\\site-packages\\urllib3\\connectionpool.py\u001b[0m in \u001b[0;36murlopen\u001b[1;34m(self, method, url, body, headers, retries, redirect, assert_same_host, timeout, pool_timeout, release_conn, chunked, body_pos, **response_kw)\u001b[0m\n\u001b[0;32m    668\u001b[0m \u001b[1;33m\u001b[0m\u001b[0m\n\u001b[0;32m    669\u001b[0m             \u001b[1;31m# Make the request on the httplib connection object.\u001b[0m\u001b[1;33m\u001b[0m\u001b[1;33m\u001b[0m\u001b[1;33m\u001b[0m\u001b[0m\n\u001b[1;32m--> 670\u001b[1;33m             httplib_response = self._make_request(\n\u001b[0m\u001b[0;32m    671\u001b[0m                 \u001b[0mconn\u001b[0m\u001b[1;33m,\u001b[0m\u001b[1;33m\u001b[0m\u001b[1;33m\u001b[0m\u001b[0m\n\u001b[0;32m    672\u001b[0m                 \u001b[0mmethod\u001b[0m\u001b[1;33m,\u001b[0m\u001b[1;33m\u001b[0m\u001b[1;33m\u001b[0m\u001b[0m\n",
      "\u001b[1;32m~\\anaconda3\\lib\\site-packages\\urllib3\\connectionpool.py\u001b[0m in \u001b[0;36m_make_request\u001b[1;34m(self, conn, method, url, timeout, chunked, **httplib_request_kw)\u001b[0m\n\u001b[0;32m    379\u001b[0m         \u001b[1;31m# Trigger any extra validation we need to do.\u001b[0m\u001b[1;33m\u001b[0m\u001b[1;33m\u001b[0m\u001b[1;33m\u001b[0m\u001b[0m\n\u001b[0;32m    380\u001b[0m         \u001b[1;32mtry\u001b[0m\u001b[1;33m:\u001b[0m\u001b[1;33m\u001b[0m\u001b[1;33m\u001b[0m\u001b[0m\n\u001b[1;32m--> 381\u001b[1;33m             \u001b[0mself\u001b[0m\u001b[1;33m.\u001b[0m\u001b[0m_validate_conn\u001b[0m\u001b[1;33m(\u001b[0m\u001b[0mconn\u001b[0m\u001b[1;33m)\u001b[0m\u001b[1;33m\u001b[0m\u001b[1;33m\u001b[0m\u001b[0m\n\u001b[0m\u001b[0;32m    382\u001b[0m         \u001b[1;32mexcept\u001b[0m \u001b[1;33m(\u001b[0m\u001b[0mSocketTimeout\u001b[0m\u001b[1;33m,\u001b[0m \u001b[0mBaseSSLError\u001b[0m\u001b[1;33m)\u001b[0m \u001b[1;32mas\u001b[0m \u001b[0me\u001b[0m\u001b[1;33m:\u001b[0m\u001b[1;33m\u001b[0m\u001b[1;33m\u001b[0m\u001b[0m\n\u001b[0;32m    383\u001b[0m             \u001b[1;31m# Py2 raises this as a BaseSSLError, Py3 raises it as socket timeout.\u001b[0m\u001b[1;33m\u001b[0m\u001b[1;33m\u001b[0m\u001b[1;33m\u001b[0m\u001b[0m\n",
      "\u001b[1;32m~\\anaconda3\\lib\\site-packages\\urllib3\\connectionpool.py\u001b[0m in \u001b[0;36m_validate_conn\u001b[1;34m(self, conn)\u001b[0m\n\u001b[0;32m    976\u001b[0m         \u001b[1;31m# Force connect early to allow us to validate the connection.\u001b[0m\u001b[1;33m\u001b[0m\u001b[1;33m\u001b[0m\u001b[1;33m\u001b[0m\u001b[0m\n\u001b[0;32m    977\u001b[0m         \u001b[1;32mif\u001b[0m \u001b[1;32mnot\u001b[0m \u001b[0mgetattr\u001b[0m\u001b[1;33m(\u001b[0m\u001b[0mconn\u001b[0m\u001b[1;33m,\u001b[0m \u001b[1;34m\"sock\"\u001b[0m\u001b[1;33m,\u001b[0m \u001b[1;32mNone\u001b[0m\u001b[1;33m)\u001b[0m\u001b[1;33m:\u001b[0m  \u001b[1;31m# AppEngine might not have  `.sock`\u001b[0m\u001b[1;33m\u001b[0m\u001b[1;33m\u001b[0m\u001b[0m\n\u001b[1;32m--> 978\u001b[1;33m             \u001b[0mconn\u001b[0m\u001b[1;33m.\u001b[0m\u001b[0mconnect\u001b[0m\u001b[1;33m(\u001b[0m\u001b[1;33m)\u001b[0m\u001b[1;33m\u001b[0m\u001b[1;33m\u001b[0m\u001b[0m\n\u001b[0m\u001b[0;32m    979\u001b[0m \u001b[1;33m\u001b[0m\u001b[0m\n\u001b[0;32m    980\u001b[0m         \u001b[1;32mif\u001b[0m \u001b[1;32mnot\u001b[0m \u001b[0mconn\u001b[0m\u001b[1;33m.\u001b[0m\u001b[0mis_verified\u001b[0m\u001b[1;33m:\u001b[0m\u001b[1;33m\u001b[0m\u001b[1;33m\u001b[0m\u001b[0m\n",
      "\u001b[1;32m~\\anaconda3\\lib\\site-packages\\urllib3\\connection.py\u001b[0m in \u001b[0;36mconnect\u001b[1;34m(self)\u001b[0m\n\u001b[0;32m    360\u001b[0m             \u001b[0mcontext\u001b[0m\u001b[1;33m.\u001b[0m\u001b[0mload_default_certs\u001b[0m\u001b[1;33m(\u001b[0m\u001b[1;33m)\u001b[0m\u001b[1;33m\u001b[0m\u001b[1;33m\u001b[0m\u001b[0m\n\u001b[0;32m    361\u001b[0m \u001b[1;33m\u001b[0m\u001b[0m\n\u001b[1;32m--> 362\u001b[1;33m         self.sock = ssl_wrap_socket(\n\u001b[0m\u001b[0;32m    363\u001b[0m             \u001b[0msock\u001b[0m\u001b[1;33m=\u001b[0m\u001b[0mconn\u001b[0m\u001b[1;33m,\u001b[0m\u001b[1;33m\u001b[0m\u001b[1;33m\u001b[0m\u001b[0m\n\u001b[0;32m    364\u001b[0m             \u001b[0mkeyfile\u001b[0m\u001b[1;33m=\u001b[0m\u001b[0mself\u001b[0m\u001b[1;33m.\u001b[0m\u001b[0mkey_file\u001b[0m\u001b[1;33m,\u001b[0m\u001b[1;33m\u001b[0m\u001b[1;33m\u001b[0m\u001b[0m\n",
      "\u001b[1;32m~\\anaconda3\\lib\\site-packages\\urllib3\\util\\ssl_.py\u001b[0m in \u001b[0;36mssl_wrap_socket\u001b[1;34m(sock, keyfile, certfile, cert_reqs, ca_certs, server_hostname, ssl_version, ciphers, ssl_context, ca_cert_dir, key_password, ca_cert_data)\u001b[0m\n\u001b[0;32m    384\u001b[0m     ) or IS_SECURETRANSPORT:\n\u001b[0;32m    385\u001b[0m         \u001b[1;32mif\u001b[0m \u001b[0mHAS_SNI\u001b[0m \u001b[1;32mand\u001b[0m \u001b[0mserver_hostname\u001b[0m \u001b[1;32mis\u001b[0m \u001b[1;32mnot\u001b[0m \u001b[1;32mNone\u001b[0m\u001b[1;33m:\u001b[0m\u001b[1;33m\u001b[0m\u001b[1;33m\u001b[0m\u001b[0m\n\u001b[1;32m--> 386\u001b[1;33m             \u001b[1;32mreturn\u001b[0m \u001b[0mcontext\u001b[0m\u001b[1;33m.\u001b[0m\u001b[0mwrap_socket\u001b[0m\u001b[1;33m(\u001b[0m\u001b[0msock\u001b[0m\u001b[1;33m,\u001b[0m \u001b[0mserver_hostname\u001b[0m\u001b[1;33m=\u001b[0m\u001b[0mserver_hostname\u001b[0m\u001b[1;33m)\u001b[0m\u001b[1;33m\u001b[0m\u001b[1;33m\u001b[0m\u001b[0m\n\u001b[0m\u001b[0;32m    387\u001b[0m \u001b[1;33m\u001b[0m\u001b[0m\n\u001b[0;32m    388\u001b[0m         warnings.warn(\n",
      "\u001b[1;32m~\\anaconda3\\lib\\ssl.py\u001b[0m in \u001b[0;36mwrap_socket\u001b[1;34m(self, sock, server_side, do_handshake_on_connect, suppress_ragged_eofs, server_hostname, session)\u001b[0m\n\u001b[0;32m    498\u001b[0m         \u001b[1;31m# SSLSocket class handles server_hostname encoding before it calls\u001b[0m\u001b[1;33m\u001b[0m\u001b[1;33m\u001b[0m\u001b[1;33m\u001b[0m\u001b[0m\n\u001b[0;32m    499\u001b[0m         \u001b[1;31m# ctx._wrap_socket()\u001b[0m\u001b[1;33m\u001b[0m\u001b[1;33m\u001b[0m\u001b[1;33m\u001b[0m\u001b[0m\n\u001b[1;32m--> 500\u001b[1;33m         return self.sslsocket_class._create(\n\u001b[0m\u001b[0;32m    501\u001b[0m             \u001b[0msock\u001b[0m\u001b[1;33m=\u001b[0m\u001b[0msock\u001b[0m\u001b[1;33m,\u001b[0m\u001b[1;33m\u001b[0m\u001b[1;33m\u001b[0m\u001b[0m\n\u001b[0;32m    502\u001b[0m             \u001b[0mserver_side\u001b[0m\u001b[1;33m=\u001b[0m\u001b[0mserver_side\u001b[0m\u001b[1;33m,\u001b[0m\u001b[1;33m\u001b[0m\u001b[1;33m\u001b[0m\u001b[0m\n",
      "\u001b[1;32m~\\anaconda3\\lib\\ssl.py\u001b[0m in \u001b[0;36m_create\u001b[1;34m(cls, sock, server_side, do_handshake_on_connect, suppress_ragged_eofs, server_hostname, context, session)\u001b[0m\n\u001b[0;32m   1038\u001b[0m                         \u001b[1;31m# non-blocking\u001b[0m\u001b[1;33m\u001b[0m\u001b[1;33m\u001b[0m\u001b[1;33m\u001b[0m\u001b[0m\n\u001b[0;32m   1039\u001b[0m                         \u001b[1;32mraise\u001b[0m \u001b[0mValueError\u001b[0m\u001b[1;33m(\u001b[0m\u001b[1;34m\"do_handshake_on_connect should not be specified for non-blocking sockets\"\u001b[0m\u001b[1;33m)\u001b[0m\u001b[1;33m\u001b[0m\u001b[1;33m\u001b[0m\u001b[0m\n\u001b[1;32m-> 1040\u001b[1;33m                     \u001b[0mself\u001b[0m\u001b[1;33m.\u001b[0m\u001b[0mdo_handshake\u001b[0m\u001b[1;33m(\u001b[0m\u001b[1;33m)\u001b[0m\u001b[1;33m\u001b[0m\u001b[1;33m\u001b[0m\u001b[0m\n\u001b[0m\u001b[0;32m   1041\u001b[0m             \u001b[1;32mexcept\u001b[0m \u001b[1;33m(\u001b[0m\u001b[0mOSError\u001b[0m\u001b[1;33m,\u001b[0m \u001b[0mValueError\u001b[0m\u001b[1;33m)\u001b[0m\u001b[1;33m:\u001b[0m\u001b[1;33m\u001b[0m\u001b[1;33m\u001b[0m\u001b[0m\n\u001b[0;32m   1042\u001b[0m                 \u001b[0mself\u001b[0m\u001b[1;33m.\u001b[0m\u001b[0mclose\u001b[0m\u001b[1;33m(\u001b[0m\u001b[1;33m)\u001b[0m\u001b[1;33m\u001b[0m\u001b[1;33m\u001b[0m\u001b[0m\n",
      "\u001b[1;32m~\\anaconda3\\lib\\ssl.py\u001b[0m in \u001b[0;36mdo_handshake\u001b[1;34m(self, block)\u001b[0m\n\u001b[0;32m   1307\u001b[0m             \u001b[1;32mif\u001b[0m \u001b[0mtimeout\u001b[0m \u001b[1;33m==\u001b[0m \u001b[1;36m0.0\u001b[0m \u001b[1;32mand\u001b[0m \u001b[0mblock\u001b[0m\u001b[1;33m:\u001b[0m\u001b[1;33m\u001b[0m\u001b[1;33m\u001b[0m\u001b[0m\n\u001b[0;32m   1308\u001b[0m                 \u001b[0mself\u001b[0m\u001b[1;33m.\u001b[0m\u001b[0msettimeout\u001b[0m\u001b[1;33m(\u001b[0m\u001b[1;32mNone\u001b[0m\u001b[1;33m)\u001b[0m\u001b[1;33m\u001b[0m\u001b[1;33m\u001b[0m\u001b[0m\n\u001b[1;32m-> 1309\u001b[1;33m             \u001b[0mself\u001b[0m\u001b[1;33m.\u001b[0m\u001b[0m_sslobj\u001b[0m\u001b[1;33m.\u001b[0m\u001b[0mdo_handshake\u001b[0m\u001b[1;33m(\u001b[0m\u001b[1;33m)\u001b[0m\u001b[1;33m\u001b[0m\u001b[1;33m\u001b[0m\u001b[0m\n\u001b[0m\u001b[0;32m   1310\u001b[0m         \u001b[1;32mfinally\u001b[0m\u001b[1;33m:\u001b[0m\u001b[1;33m\u001b[0m\u001b[1;33m\u001b[0m\u001b[0m\n\u001b[0;32m   1311\u001b[0m             \u001b[0mself\u001b[0m\u001b[1;33m.\u001b[0m\u001b[0msettimeout\u001b[0m\u001b[1;33m(\u001b[0m\u001b[0mtimeout\u001b[0m\u001b[1;33m)\u001b[0m\u001b[1;33m\u001b[0m\u001b[1;33m\u001b[0m\u001b[0m\n",
      "\u001b[1;31mKeyboardInterrupt\u001b[0m: "
     ]
    }
   ],
   "source": [
    "import requests\n",
    "from bs4 import BeautifulSoup\n",
    "import json\n",
    "import csv\n",
    "import random,time\n",
    "import re\n",
    "    \n",
    "url = 'https://www.meishichina.com/yingyang/VitaminA/'\n",
    "\n",
    "userAgent = 'Mozilla/5.0 (Windows NT 10.0; Win64; x64) AppleWebKit/537.36 (KHTML, like Gecko) Chrome/90.0.4430.93 Safari/537.36'\n",
    "\n",
    "headers = {\n",
    "    'User-Agent':userAgent\n",
    "}\n",
    "\n",
    "res = requests.get(url, headers=headers)\n",
    "res.encoding = 'utf-8'\n",
    "\n",
    "soup = BeautifulSoup(res.text, 'html.parser')\n",
    "\n",
    "all_nutrient_datas = []\n",
    "\n",
    "objTag = soup.find_all(\"div\",\"gongxiao_r\")\n",
    "\n",
    "for nutrient in objTag:\n",
    "    data = nutrient.find_all('a')\n",
    "    \n",
    "    for name in data:\n",
    "        nutrient_name = name.text   #營養素名\n",
    "        link = name['href']         #營養素網址\n",
    "        print(nutrient_name)\n",
    "#         print(\"=====\"*10)\n",
    "        print(link)\n",
    "########################################################\n",
    "        url = link\n",
    "        res = requests.get(url, headers=headers)\n",
    "        res.encoding = 'utf-8'\n",
    "        food_soup = BeautifulSoup(res.text, 'html.parser')\n",
    "        food_obj = food_soup.select('div[class=\"recipeCategory_sub_R clear\"]') # 標籤\n",
    "        for food_category in food_obj:\n",
    "            food_content = food_category.text.split(\"\\n\"*4) #\n",
    "            for food_content_final in food_content:  \n",
    "                list = food_content_final.split(\"\\n\"*2)\n",
    "                food_list = [x.strip() for x in list if x.strip()!='']\n",
    "                if food_list == []:\n",
    "                    pass\n",
    "                else:\n",
    "                    food_dict = {}\n",
    "                    food_dict[food_list[0]] = food_list[1]\n",
    "                    print(food_dict)\n",
    "        print(\"======\"*20)\n",
    "        \n",
    "        \n",
    "        "
   ]
  },
  {
   "cell_type": "code",
   "execution_count": 195,
   "metadata": {
    "ExecuteTime": {
     "end_time": "2021-07-26T14:44:24.657045Z",
     "start_time": "2021-07-26T14:44:24.647489Z"
    }
   },
   "outputs": [
    {
     "name": "stdout",
     "output_type": "stream",
     "text": [
      "{}\n"
     ]
    }
   ],
   "source": [
    "a = {}\n",
    "b = ['1:a','2:b','3:c']\n",
    "map(lambda x:a.setdefault(x.split(':')[0], x.split(':')[1]), b)\n",
    "print(a)"
   ]
  },
  {
   "cell_type": "code",
   "execution_count": 227,
   "metadata": {
    "ExecuteTime": {
     "end_time": "2021-07-26T15:19:57.997959Z",
     "start_time": "2021-07-26T15:19:57.984995Z"
    }
   },
   "outputs": [
    {
     "data": {
      "text/plain": [
       "[]"
      ]
     },
     "execution_count": 227,
     "metadata": {},
     "output_type": "execute_result"
    }
   ],
   "source": [
    "food_list = [x.strip() for x in list if x.strip()!='']\n",
    "food_list"
   ]
  },
  {
   "cell_type": "code",
   "execution_count": 202,
   "metadata": {
    "ExecuteTime": {
     "end_time": "2021-07-26T15:03:38.797435Z",
     "start_time": "2021-07-26T15:03:38.779538Z"
    }
   },
   "outputs": [
    {
     "name": "stdout",
     "output_type": "stream",
     "text": [
      "2\n",
      "{'牛肝': '20220'}\n"
     ]
    }
   ],
   "source": [
    "food_dict = {}\n",
    "list = ['牛肝', '20220']\n",
    "print(len(list))\n",
    "for i in range(1):\n",
    "    food_dict[list[i]] = list[i+1]\n",
    "print(food_dict)"
   ]
  },
  {
   "cell_type": "code",
   "execution_count": 230,
   "metadata": {
    "ExecuteTime": {
     "end_time": "2021-07-26T15:21:56.915206Z",
     "start_time": "2021-07-26T15:21:51.334993Z"
    }
   },
   "outputs": [
    {
     "name": "stdout",
     "output_type": "stream",
     "text": [
      "{'牛肝': '20220'}\n",
      "{'鸡肝': '10414'}\n",
      "{'鹅肝': '6100'}\n",
      "{'猪肝': '4972'}\n",
      "{'秋葵': '2818.00'}\n",
      "{'枸杞': '1625'}\n",
      "{'莲藕': '1592.00'}\n",
      "{'西兰花': '1202'}\n",
      "{'鸭肝': '1040'}\n",
      "{'鸡心': '910'}\n",
      "{'菠菜': '487'}\n",
      "{'豆苗': '445'}\n",
      "{'荠菜': '432'}\n",
      "{'莴苣叶': '432.00'}\n",
      "{'豆瓣辣酱': '417'}\n",
      "{'紫菜': '403'}\n",
      "{'牛排': '371.30'}\n",
      "{'黄花菜': '357'}\n",
      "{'苋菜': '352'}\n",
      "{'马兰头': '340'}\n"
     ]
    }
   ],
   "source": [
    "url = 'https://www.meishichina.com/yingyang/VitaminA/'\n",
    "res = requests.get(url, headers=headers)\n",
    "res.encoding = 'utf-8'\n",
    "food_soup = BeautifulSoup(res.text, 'html.parser')\n",
    "food_obj = food_soup.select('div[class=\"recipeCategory_sub_R clear\"]') # 標籤\n",
    "\n",
    "for food_category in food_obj:\n",
    "    food_content = food_category.text.split(\"\\n\"*4) #\n",
    "#     print(food_content)\n",
    "    for food_content_final in food_content:  \n",
    "        list = food_content_final.split(\"\\n\"*2)\n",
    "        food_list = [x.strip() for x in list if x.strip()!='']\n",
    "#         print(food_list)\n",
    "#         print(\"=======================\")\n",
    "        if food_list == []:\n",
    "            pass\n",
    "        else:\n",
    "            food_dict = {}\n",
    "            food_dict[food_list[0]] = food_list[1]\n",
    "            print(food_dict)\n",
    "#         for i in range(1):\n",
    "#             food_dict[food_list[i]] = food_list[i+1]\n",
    "#         print(food_dict)\n",
    "#         if food_list == []:\n",
    "#             pass\n",
    "#         else:\n",
    "#             print(food_list)\n",
    "# print(\"======\"*20)"
   ]
  },
  {
   "cell_type": "code",
   "execution_count": null,
   "metadata": {},
   "outputs": [],
   "source": []
  },
  {
   "cell_type": "code",
   "execution_count": 181,
   "metadata": {
    "ExecuteTime": {
     "end_time": "2021-07-26T12:27:12.230866Z",
     "start_time": "2021-07-26T12:27:12.218327Z"
    }
   },
   "outputs": [
    {
     "data": {
      "text/plain": [
       "'\\n\\n\\n\\n牛肝\\n\\n20220\\n\\n\\n\\n鸡肝\\n\\n10414\\n\\n\\n\\n鹅肝\\n\\n6100\\n\\n\\n\\n猪肝\\n\\n4972\\n\\n\\n\\n秋葵\\n\\n2818.00\\n\\n\\n\\n枸杞\\n\\n1625\\n\\n\\n\\n莲藕\\n\\n1592.00\\n\\n\\n\\n西兰花\\n\\n1202\\n\\n\\n\\n鸭肝\\n\\n1040\\n\\n\\n\\n鸡心\\n\\n910\\n\\n\\n\\n菠菜\\n\\n487\\n\\n\\n\\n豆苗\\n\\n445\\n\\n\\n\\n荠菜\\n\\n432\\n\\n\\n\\n莴苣叶\\n\\n432.00\\n\\n\\n\\n豆瓣辣酱\\n\\n417\\n\\n\\n\\n紫菜\\n\\n403\\n\\n\\n\\n牛排\\n\\n371.30\\n\\n\\n\\n黄花菜\\n\\n357\\n\\n\\n\\n苋菜\\n\\n352\\n\\n\\n\\n马兰头\\n\\n340\\n\\n\\n'"
      ]
     },
     "execution_count": 181,
     "metadata": {},
     "output_type": "execute_result"
    }
   ],
   "source": [
    "food_category.text"
   ]
  },
  {
   "cell_type": "code",
   "execution_count": 191,
   "metadata": {
    "ExecuteTime": {
     "end_time": "2021-07-26T14:00:07.811804Z",
     "start_time": "2021-07-26T14:00:07.793854Z"
    }
   },
   "outputs": [
    {
     "data": {
      "text/plain": [
       "[]"
      ]
     },
     "execution_count": 191,
     "metadata": {},
     "output_type": "execute_result"
    }
   ],
   "source": [
    "food_obj"
   ]
  },
  {
   "cell_type": "code",
   "execution_count": 155,
   "metadata": {
    "ExecuteTime": {
     "end_time": "2021-07-26T11:54:14.019122Z",
     "start_time": "2021-07-26T11:54:14.010099Z"
    }
   },
   "outputs": [
    {
     "name": "stdout",
     "output_type": "stream",
     "text": [
      "里脊\n",
      "30.8\n",
      "\n"
     ]
    }
   ],
   "source": [
    "list = ['里脊', '30.8', '\\n']\n",
    "for i in list:\n",
    "    print(i.replace('\\n', ''))\n",
    "    [x.strip() for x in a if x.strip()!='']"
   ]
  },
  {
   "cell_type": "code",
   "execution_count": 183,
   "metadata": {
    "ExecuteTime": {
     "end_time": "2021-07-26T12:28:12.809481Z",
     "start_time": "2021-07-26T12:28:12.797344Z"
    }
   },
   "outputs": [
    {
     "name": "stdout",
     "output_type": "stream",
     "text": [
      "['马兰头', '340']\n"
     ]
    }
   ],
   "source": [
    "\n",
    "a = ['里脊', '30.8', '\\n']\n",
    "a = food_list\n",
    "list = [x.strip() for x in a if x.strip()!='']\n",
    "print(list)"
   ]
  },
  {
   "cell_type": "code",
   "execution_count": 85,
   "metadata": {
    "ExecuteTime": {
     "end_time": "2021-07-26T09:52:29.806739Z",
     "start_time": "2021-07-26T09:52:28.531928Z"
    }
   },
   "outputs": [
    {
     "data": {
      "text/plain": [
       "<div class=\"mo mt20\">\n",
       "<div>\n",
       "补维生素A(视黄醇)的食物有哪些<span style=\"color:#999;font-size:16px;float:right\">每百克中含量(单位：毫克)</span>\n",
       "</div>\n",
       "</div>"
      ]
     },
     "execution_count": 85,
     "metadata": {},
     "output_type": "execute_result"
    }
   ],
   "source": [
    "#標頭\n",
    "url = \"https://www.meishichina.com/yingyang/VitaminA/\"\n",
    "res = requests.get(url, headers=headers)\n",
    "res.encoding = 'utf-8'\n",
    "food_soup = BeautifulSoup(res.text, 'html.parser')\n",
    "food_content = food_soup.select('div[class=\"mo mt20\"]')\n",
    "food_content[0]"
   ]
  },
  {
   "cell_type": "code",
   "execution_count": 143,
   "metadata": {
    "ExecuteTime": {
     "end_time": "2021-07-26T11:03:07.154966Z",
     "start_time": "2021-07-26T11:03:06.932259Z"
    },
    "code_folding": [],
    "scrolled": true
   },
   "outputs": [
    {
     "name": "stdout",
     "output_type": "stream",
     "text": [
      "['']\n",
      "========================================================================================================================\n",
      "['牛肝', '20220']\n",
      "========================================================================================================================\n",
      "['鸡肝', '10414']\n",
      "========================================================================================================================\n",
      "['鹅肝', '6100']\n",
      "========================================================================================================================\n",
      "['猪肝', '4972']\n",
      "========================================================================================================================\n",
      "['秋葵', '2818.00']\n",
      "========================================================================================================================\n",
      "['枸杞', '1625']\n",
      "========================================================================================================================\n",
      "['莲藕', '1592.00']\n",
      "========================================================================================================================\n",
      "['西兰花', '1202']\n",
      "========================================================================================================================\n",
      "['鸭肝', '1040']\n",
      "========================================================================================================================\n",
      "['鸡心', '910']\n",
      "========================================================================================================================\n",
      "['菠菜', '487']\n",
      "========================================================================================================================\n",
      "['豆苗', '445']\n",
      "========================================================================================================================\n",
      "['荠菜', '432']\n",
      "========================================================================================================================\n",
      "['莴苣叶', '432.00']\n",
      "========================================================================================================================\n",
      "['豆瓣辣酱', '417']\n",
      "========================================================================================================================\n",
      "['紫菜', '403']\n",
      "========================================================================================================================\n",
      "['牛排', '371.30']\n",
      "========================================================================================================================\n",
      "['黄花菜', '357']\n",
      "========================================================================================================================\n",
      "['苋菜', '352']\n",
      "========================================================================================================================\n",
      "['马兰头', '340', '\\n']\n",
      "========================================================================================================================\n"
     ]
    }
   ],
   "source": [
    "#內容\n",
    "url = \"https://www.meishichina.com/yingyang/VitaminA/\"\n",
    "res = requests.get(url, headers=headers)\n",
    "res.encoding = 'utf-8'\n",
    "food_soup = BeautifulSoup(res.text, 'html.parser')\n",
    "food_content = food_soup.select('div[class=\"recipeCategory_sub_R clear\"]')\n",
    "# print(food_content)\n",
    "food_obj = food_soup.select('div[class=\"recipeCategory_sub_R clear\"]') # 標籤\n",
    "for food_category in food_obj:\n",
    "    food_content = food_category.text.split(\"\\n\"*4) #\n",
    "    for food_content_final in food_content:  \n",
    "        food_list = food_content_final.split(\"\\n\"*2)\n",
    "        print(food_list)\n",
    "        print(\"======\"*20)\n"
   ]
  },
  {
   "cell_type": "code",
   "execution_count": 139,
   "metadata": {
    "ExecuteTime": {
     "end_time": "2021-07-26T10:58:20.730619Z",
     "start_time": "2021-07-26T10:58:20.704759Z"
    },
    "collapsed": true
   },
   "outputs": [
    {
     "data": {
      "text/plain": [
       "[<div class=\"recipeCategory_sub_R clear\">\n",
       " <ul>\n",
       " <li>\n",
       " <span class=\"category_s1\">\n",
       " <a href=\"https://www.meishichina.com/YuanLiao/NiuGan/\" target=\"_blank\" title=\"牛肝的做法\"><b>牛肝</b></a>\n",
       " </span>\n",
       " <span class=\"category_s2\">20220</span>\n",
       " </li>\n",
       " <li>\n",
       " <span class=\"category_s1\">\n",
       " <a href=\"https://www.meishichina.com/YuanLiao/JiGan/\" target=\"_blank\" title=\"鸡肝的做法\"><b>鸡肝</b></a>\n",
       " </span>\n",
       " <span class=\"category_s2\">10414</span>\n",
       " </li>\n",
       " <li>\n",
       " <span class=\"category_s1\">\n",
       " <a href=\"https://www.meishichina.com/YuanLiao/EGan/\" target=\"_blank\" title=\"鹅肝的做法\"><b>鹅肝</b></a>\n",
       " </span>\n",
       " <span class=\"category_s2\">6100</span>\n",
       " </li>\n",
       " <li>\n",
       " <span class=\"category_s1\">\n",
       " <a href=\"https://www.meishichina.com/YuanLiao/ZhuGan/\" target=\"_blank\" title=\"猪肝的做法\"><b>猪肝</b></a>\n",
       " </span>\n",
       " <span class=\"category_s2\">4972</span>\n",
       " </li>\n",
       " <li>\n",
       " <span class=\"category_s1\">\n",
       " <a href=\"https://www.meishichina.com/YuanLiao/QiuKui/\" target=\"_blank\" title=\"秋葵的做法\"><b>秋葵</b></a>\n",
       " </span>\n",
       " <span class=\"category_s2\">2818.00</span>\n",
       " </li>\n",
       " <li>\n",
       " <span class=\"category_s1\">\n",
       " <a href=\"https://www.meishichina.com/YuanLiao/GouQi/\" target=\"_blank\" title=\"枸杞的做法\"><b>枸杞</b></a>\n",
       " </span>\n",
       " <span class=\"category_s2\">1625</span>\n",
       " </li>\n",
       " <li>\n",
       " <span class=\"category_s1\">\n",
       " <a href=\"https://www.meishichina.com/YuanLiao/LianOu/\" target=\"_blank\" title=\"莲藕的做法\"><b>莲藕</b></a>\n",
       " </span>\n",
       " <span class=\"category_s2\">1592.00</span>\n",
       " </li>\n",
       " <li>\n",
       " <span class=\"category_s1\">\n",
       " <a href=\"https://www.meishichina.com/YuanLiao/XiLanHua/\" target=\"_blank\" title=\"西兰花的做法\"><b>西兰花</b></a>\n",
       " </span>\n",
       " <span class=\"category_s2\">1202</span>\n",
       " </li>\n",
       " <li>\n",
       " <span class=\"category_s1\">\n",
       " <a href=\"https://www.meishichina.com/YuanLiao/YaGan/\" target=\"_blank\" title=\"鸭肝的做法\"><b>鸭肝</b></a>\n",
       " </span>\n",
       " <span class=\"category_s2\">1040</span>\n",
       " </li>\n",
       " <li>\n",
       " <span class=\"category_s1\">\n",
       " <a href=\"https://www.meishichina.com/YuanLiao/JiXin/\" target=\"_blank\" title=\"鸡心的做法\"><b>鸡心</b></a>\n",
       " </span>\n",
       " <span class=\"category_s2\">910</span>\n",
       " </li>\n",
       " <li>\n",
       " <span class=\"category_s1\">\n",
       " <a href=\"https://www.meishichina.com/YuanLiao/BoCai/\" target=\"_blank\" title=\"菠菜的做法\"><b>菠菜</b></a>\n",
       " </span>\n",
       " <span class=\"category_s2\">487</span>\n",
       " </li>\n",
       " <li>\n",
       " <span class=\"category_s1\">\n",
       " <a href=\"https://www.meishichina.com/YuanLiao/DouMiao/\" target=\"_blank\" title=\"豆苗的做法\"><b>豆苗</b></a>\n",
       " </span>\n",
       " <span class=\"category_s2\">445</span>\n",
       " </li>\n",
       " <li>\n",
       " <span class=\"category_s1\">\n",
       " <a href=\"https://www.meishichina.com/YuanLiao/JiCai/\" target=\"_blank\" title=\"荠菜的做法\"><b>荠菜</b></a>\n",
       " </span>\n",
       " <span class=\"category_s2\">432</span>\n",
       " </li>\n",
       " <li>\n",
       " <span class=\"category_s1\">\n",
       " <a href=\"https://www.meishichina.com/YuanLiao/WoJvYe/\" target=\"_blank\" title=\"莴苣叶的做法\"><b>莴苣叶</b></a>\n",
       " </span>\n",
       " <span class=\"category_s2\">432.00</span>\n",
       " </li>\n",
       " <li>\n",
       " <span class=\"category_s1\">\n",
       " <a href=\"https://www.meishichina.com/YuanLiao/DouBanLaJiang/\" target=\"_blank\" title=\"豆瓣辣酱的做法\"><b>豆瓣辣酱</b></a>\n",
       " </span>\n",
       " <span class=\"category_s2\">417</span>\n",
       " </li>\n",
       " <li>\n",
       " <span class=\"category_s1\">\n",
       " <a href=\"https://www.meishichina.com/YuanLiao/ZiCai/\" target=\"_blank\" title=\"紫菜的做法\"><b>紫菜</b></a>\n",
       " </span>\n",
       " <span class=\"category_s2\">403</span>\n",
       " </li>\n",
       " <li>\n",
       " <span class=\"category_s1\">\n",
       " <a href=\"https://www.meishichina.com/YuanLiao/NiuPai/\" target=\"_blank\" title=\"牛排的做法\"><b>牛排</b></a>\n",
       " </span>\n",
       " <span class=\"category_s2\">371.30</span>\n",
       " </li>\n",
       " <li>\n",
       " <span class=\"category_s1\">\n",
       " <a href=\"https://www.meishichina.com/YuanLiao/HuangHuaCai/\" target=\"_blank\" title=\"黄花菜的做法\"><b>黄花菜</b></a>\n",
       " </span>\n",
       " <span class=\"category_s2\">357</span>\n",
       " </li>\n",
       " <li>\n",
       " <span class=\"category_s1\">\n",
       " <a href=\"https://www.meishichina.com/YuanLiao/XianCai/\" target=\"_blank\" title=\"苋菜的做法\"><b>苋菜</b></a>\n",
       " </span>\n",
       " <span class=\"category_s2\">352</span>\n",
       " </li>\n",
       " <li>\n",
       " <span class=\"category_s1\">\n",
       " <a href=\"https://www.meishichina.com/YuanLiao/MaLanTou/\" target=\"_blank\" title=\"马兰头的做法\"><b>马兰头</b></a>\n",
       " </span>\n",
       " <span class=\"category_s2\">340</span>\n",
       " </li>\n",
       " </ul>\n",
       " </div>]"
      ]
     },
     "execution_count": 139,
     "metadata": {},
     "output_type": "execute_result"
    }
   ],
   "source": [
    "food_obj"
   ]
  },
  {
   "cell_type": "code",
   "execution_count": 141,
   "metadata": {
    "ExecuteTime": {
     "end_time": "2021-07-26T10:59:35.808925Z",
     "start_time": "2021-07-26T10:59:35.795865Z"
    }
   },
   "outputs": [
    {
     "data": {
      "text/plain": [
       "['',\n",
       " '牛肝\\n\\n20220',\n",
       " '鸡肝\\n\\n10414',\n",
       " '鹅肝\\n\\n6100',\n",
       " '猪肝\\n\\n4972',\n",
       " '秋葵\\n\\n2818.00',\n",
       " '枸杞\\n\\n1625',\n",
       " '莲藕\\n\\n1592.00',\n",
       " '西兰花\\n\\n1202',\n",
       " '鸭肝\\n\\n1040',\n",
       " '鸡心\\n\\n910',\n",
       " '菠菜\\n\\n487',\n",
       " '豆苗\\n\\n445',\n",
       " '荠菜\\n\\n432',\n",
       " '莴苣叶\\n\\n432.00',\n",
       " '豆瓣辣酱\\n\\n417',\n",
       " '紫菜\\n\\n403',\n",
       " '牛排\\n\\n371.30',\n",
       " '黄花菜\\n\\n357',\n",
       " '苋菜\\n\\n352',\n",
       " '马兰头\\n\\n340\\n\\n\\n']"
      ]
     },
     "execution_count": 141,
     "metadata": {},
     "output_type": "execute_result"
    }
   ],
   "source": [
    "food_category.text.split(\"\\n\"*4)"
   ]
  },
  {
   "cell_type": "code",
   "execution_count": null,
   "metadata": {},
   "outputs": [],
   "source": []
  },
  {
   "cell_type": "code",
   "execution_count": 74,
   "metadata": {
    "ExecuteTime": {
     "end_time": "2021-07-26T09:41:51.596595Z",
     "start_time": "2021-07-26T09:41:51.574666Z"
    }
   },
   "outputs": [
    {
     "name": "stdout",
     "output_type": "stream",
     "text": [
      "\n",
      "补维生素A(视黄醇)的食物有哪些每百克中含量(单位：毫克)\n",
      "\n",
      "每百克中含量(单位：毫克)\n"
     ]
    }
   ],
   "source": [
    "print(title.div.text)\n",
    "print(title.div.span.text)"
   ]
  },
  {
   "cell_type": "code",
   "execution_count": 131,
   "metadata": {
    "ExecuteTime": {
     "end_time": "2021-07-26T10:43:07.713872Z",
     "start_time": "2021-07-26T10:43:07.689320Z"
    }
   },
   "outputs": [
    {
     "name": "stdout",
     "output_type": "stream",
     "text": [
      "['']\n",
      "['牛肝', '20220']\n",
      "['鸡肝', '10414']\n",
      "['鹅肝', '6100']\n",
      "['猪肝', '4972']\n",
      "['秋葵', '2818.00']\n",
      "['枸杞', '1625']\n",
      "['莲藕', '1592.00']\n",
      "['西兰花', '1202']\n",
      "['鸭肝', '1040']\n",
      "['鸡心', '910']\n",
      "['菠菜', '487']\n",
      "['豆苗', '445']\n",
      "['荠菜', '432']\n",
      "['莴苣叶', '432.00']\n",
      "['豆瓣辣酱', '417']\n",
      "['紫菜', '403']\n",
      "['牛排', '371.30']\n",
      "['黄花菜', '357']\n",
      "['苋菜', '352']\n",
      "['马兰头', '340', '\\n']\n"
     ]
    }
   ],
   "source": [
    "food_obj = food_soup.select('div[class=\"recipeCategory_sub_R clear\"]')\n",
    "# print(food_obj)\n",
    "for food_category in food_obj:\n",
    "    a = food_category.text.split(\"\\n\"*4)\n",
    "    for i in a:\n",
    "        \n",
    "        print(i.split(\"\\n\"*2))\n",
    "        "
   ]
  },
  {
   "cell_type": "code",
   "execution_count": null,
   "metadata": {},
   "outputs": [],
   "source": []
  },
  {
   "cell_type": "code",
   "execution_count": 138,
   "metadata": {
    "ExecuteTime": {
     "end_time": "2021-07-26T10:51:10.569193Z",
     "start_time": "2021-07-26T10:51:10.538770Z"
    }
   },
   "outputs": [
    {
     "name": "stdout",
     "output_type": "stream",
     "text": [
      "['马兰头', '340', '']\n"
     ]
    },
    {
     "data": {
      "text/plain": [
       "['340']"
      ]
     },
     "execution_count": 138,
     "metadata": {},
     "output_type": "execute_result"
    }
   ],
   "source": [
    "# print(food_category.text)\n",
    "a = [x.strip() for x in i.split(\"\\n\"*2)]\n",
    "print(a)\n",
    "a[1].split(\"\\n\"*2)"
   ]
  },
  {
   "cell_type": "code",
   "execution_count": 115,
   "metadata": {
    "ExecuteTime": {
     "end_time": "2021-07-26T10:27:59.289219Z",
     "start_time": "2021-07-26T10:27:59.273964Z"
    }
   },
   "outputs": [
    {
     "data": {
      "text/plain": [
       "'\\n\\n\\n\\n牛肝\\n\\n20220\\n\\n\\n\\n鸡肝\\n\\n10414\\n\\n\\n\\n鹅肝\\n\\n6100\\n\\n\\n\\n猪肝\\n\\n4972\\n\\n\\n\\n秋葵\\n\\n2818.00\\n\\n\\n\\n枸杞\\n\\n1625\\n\\n\\n\\n莲藕\\n\\n1592.00\\n\\n\\n\\n西兰花\\n\\n1202\\n\\n\\n\\n鸭肝\\n\\n1040\\n\\n\\n\\n鸡心\\n\\n910\\n\\n\\n\\n菠菜\\n\\n487\\n\\n\\n\\n豆苗\\n\\n445\\n\\n\\n\\n荠菜\\n\\n432\\n\\n\\n\\n莴苣叶\\n\\n432.00\\n\\n\\n\\n豆瓣辣酱\\n\\n417\\n\\n\\n\\n紫菜\\n\\n403\\n\\n\\n\\n牛排\\n\\n371.30\\n\\n\\n\\n黄花菜\\n\\n357\\n\\n\\n\\n苋菜\\n\\n352\\n\\n\\n\\n马兰头\\n\\n340\\n\\n\\n'"
      ]
     },
     "execution_count": 115,
     "metadata": {},
     "output_type": "execute_result"
    }
   ],
   "source": [
    "food_category.text"
   ]
  },
  {
   "cell_type": "code",
   "execution_count": 25,
   "metadata": {
    "ExecuteTime": {
     "end_time": "2021-07-26T03:32:27.692950Z",
     "start_time": "2021-07-26T03:32:27.678753Z"
    }
   },
   "outputs": [
    {
     "data": {
      "text/plain": [
       "'https://www.meishichina.com/yingyang/Carbohydrate/'"
      ]
     },
     "execution_count": 25,
     "metadata": {},
     "output_type": "execute_result"
    }
   ],
   "source": [
    "link"
   ]
  },
  {
   "cell_type": "code",
   "execution_count": 26,
   "metadata": {
    "ExecuteTime": {
     "end_time": "2021-07-26T03:32:32.183946Z",
     "start_time": "2021-07-26T03:32:32.090449Z"
    }
   },
   "outputs": [
    {
     "data": {
      "text/plain": [
       "<!DOCTYPE html>\n",
       "\n",
       "<html>\n",
       "<head>\n",
       "<meta content=\"text/html; charset=utf-8\" http-equiv=\"Content-Type\"/>\n",
       "<title>维生素A(视黄醇)的作用及功能_维生素A(视黄醇)含量高的食物有哪些_美食天下</title>\n",
       "<meta content=\"补维生素A(视黄醇)的食物有哪些,补维生素A(视黄醇)吃什么好,什么食物含维生素A(视黄醇)多,含维生素A(视黄醇)高的食物有哪些,维生素A(视黄醇)的作用与功能\" name=\"keywords\"/>\n",
       "<meta content=\"详细介绍维生素A(视黄醇)的作用与功能、适合补维生素A(视黄醇)的人群特征。推荐给您含维生素A(视黄醇)高的食物有哪些，补维生素A(视黄醇)的食物有哪些，补维生素A(视黄醇)吃什么好，什么食物含维生素A(视黄醇)多。\" name=\"description\"/>\n",
       "<meta content=\"webkit\" name=\"renderer\"/>\n",
       "<meta content=\"format=xhtml; url=https://m.meishichina.com/yingyang/VitaminA/\" http-equiv=\"mobile-agent\"/>\n",
       "<link href=\"https://m.meishichina.com/yingyang/VitaminA/\" media=\"only screen and (max-width: 640px)\" rel=\"alternate\"/>\n",
       "<link href=\"https://static.meishichina.com/v6/img/lib/f.ico\" rel=\"shortcut icon\">\n",
       "<link href=\"https://static.meishichina.com/v6/img/lib/wapico.png\" rel=\"apple-touch-icon\"/>\n",
       "<link href=\"https://static.meishichina.com/v6/css/lib/all.css?v1=13\" rel=\"stylesheet\" type=\"text/css\"/>\n",
       "<link href=\"https://static.meishichina.com/v6/css/app/category/category2.css?v1=2018-03-16\" rel=\"stylesheet\" type=\"text/css\"/>\n",
       "<script src=\"//static.meishichina.com/v6/js/lib/dfp-list-5.js\" type=\"text/javascript\"></script>\n",
       "</link></head>\n",
       "<body>\n",
       "<div class=\"top-bar\" id=\"J_top_bar\">\n",
       "<ul class=\"bar-left left\">\n",
       "<li><a class=\"top_bar_logo\" href=\"//www.meishichina.com/\" target=\"_blank\" title=\"美食天下\"><i>美食天下</i>首页</a></li>\n",
       "<li><a href=\"//home.meishichina.com/recipe.html\" target=\"_blank\" title=\"菜谱\">菜谱</a></li>\n",
       "<li><a href=\"//www.meishichina.com/YuanLiao/\" target=\"_blank\" title=\"食材\">食材</a></li>\n",
       "<li><a href=\"//zhen.meishichina.com/\" target=\"_blank\" title=\"珍选\">珍选</a></li>\n",
       "<li><a href=\"//www.meishichina.com/Health/\" target=\"_blank\" title=\"健康\">健康</a></li>\n",
       "<li><a href=\"//www.meishichina.com/mofang/\" target=\"_blank\" title=\"专题\">专题</a></li>\n",
       "<li><a href=\"//home.meishichina.com/\" target=\"_blank\" title=\"社区\">社区</a></li>\n",
       "<li><a href=\"//home.meishichina.com/pai.html\" target=\"_blank\" title=\"话题\">话题</a></li>\n",
       "<li><a href=\"//home.meishichina.com/event/\" target=\"_blank\" title=\"活动\">活动</a></li>\n",
       "<li><a href=\"//home.meishichina.com/search/\" target=\"_blank\" title=\"搜索\">搜索</a></li>\n",
       "<li class=\"top_bar_more\"><i></i>\n",
       "<div>\n",
       "<a href=\"//hongbei.meishichina.com/\" target=\"_blank\" title=\"烘焙\">烘焙</a>\n",
       "<a href=\"//mamapai.meishichina.com/\" target=\"_blank\" title=\"妈妈派\">妈妈派</a>\n",
       "</div>\n",
       "</li>\n",
       "</ul>\n",
       "<a class=\"nr3\" href=\"//www.meishichina.com/Mobile/\" target=\"_blank\"><img height=\"18\" src=\"//static.meishichina.com/v6/img/lib/nr3.png\" width=\"18\"/>客户端<img class=\"code\" src=\"//static.meishichina.com/v6/img/model/msc_app.png\"/></a>\n",
       "<div class=\"right\" id=\"J_top_bar_user\"></div>\n",
       "</div>\n",
       "<div class=\"w logo_wrap2\">\n",
       "<div class=\"logo_inner left\">\n",
       "<a href=\"https://www.meishichina.com/\" title=\"美食天下\">美食天下</a>\n",
       "</div>\n",
       "<div class=\"logo_current left\">\n",
       "<h1><a href=\"https://www.meishichina.com/YuanLiao/\" title=\"食材\">食材</a></h1>\n",
       "</div>\n",
       "<div class=\"logo_search right\">\n",
       "<div class=\"searchBox J_search\">\n",
       "<a class=\"search_Btn J_searchBTN right\" href=\"javascript:;\" id=\"search\" title=\"搜索\">搜索</a><input class=\"search_Text J_searchTxt right\" id=\"q\" type=\"text\"/>\n",
       "</div>\n",
       "</div>\n",
       "<div class=\"logo_nav\">\n",
       "<a href=\"https://www.meishichina.com/YuanLiao/\" title=\"食材分类\">食材分类<i></i><b></b></a>\n",
       "<a class=\"on\" href=\"https://www.meishichina.com/YuanLiao/yingyang/\" title=\"营养排行\">营养排行<i></i><b></b></a>\n",
       "<span style=\"float: left; height:18px; margin:23px 4px 0; border-right: 1px solid #ddd;\"></span>\n",
       "<a href=\"https://www.meishichina.com/YuanLiao/gongxiao/\" target=\"_blank\" title=\"食疗食补\">食疗食补</a>\n",
       "</div>\n",
       "</div>\n",
       "<div class=\"w nav_wrap2\">\n",
       "<ul>\n",
       "<li><a href=\"https://www.meishichina.com/YuanLiao/\" title=\"首页\">首页</a></li>\n",
       "<li><a href=\"https://www.meishichina.com/YuanLiao/category/rql/\" title=\"肉禽类\">肉禽类</a></li>\n",
       "<li><a href=\"https://www.meishichina.com/YuanLiao/category/scl/\" title=\"水产品\">水产品</a></li>\n",
       "<li><a href=\"https://www.meishichina.com/YuanLiao/category/shucailei/\" title=\"蔬菜\">蔬菜</a></li>\n",
       "<li><a href=\"https://www.meishichina.com/YuanLiao/category/guopinlei/\" title=\"果品\">果品</a></li>\n",
       "<li><a href=\"https://www.meishichina.com/YuanLiao/category/mmdr/\" title=\"米面豆乳\">米面豆乳</a></li>\n",
       "<li><a href=\"https://www.meishichina.com/YuanLiao/category/tiaoweipinl/\" title=\"调味品\">调味品</a></li>\n",
       "<li><a href=\"https://www.meishichina.com/YuanLiao/category/yaoshiqita/\" title=\"药食及其他\">药食及其他</a></li>\n",
       "</ul>\n",
       "</div>\n",
       "<div class=\"w mt10 clear jtl\">\n",
       "<iframe frameborder=\"0\" height=\"90\" scrolling=\"no\" src=\"//static.meishichina.com/v6/h5/t1_1.html?v=2\" width=\"100%\"></iframe>\n",
       "</div>\n",
       "<div class=\"wrap\">\n",
       "<div class=\"w clear\">\n",
       "<div class=\"space_left\">\n",
       "<h1 class=\"yingyang_title\">维生素A(视黄醇)</h1>\n",
       "<div class=\"collect_txt mt10\">\n",
       "<p>维生素A是脂溶性物质，它的消化与吸收需要矿物质和脂肪的参与，可储藏于体内，并不需要每日补给。维生素A有两种：一种是维生素A醇，是最初的维生素A形态，只存在于动物性食物中；另一种是胡萝卜素，在体内转变为维生素A的预成物质，可从植物性及动物性食物中摄取。</p><p><b>维生素A功效：</b></p><p>1、防治夜盲症和视力减退，有助于对多种眼疾的治疗；</p><p>2、有抗呼吸系统感染作用；</p><p>3、有助于免疫系统功能正常；</p><p>4、生病时能早日康复；</p><p>5、能保持组织或器官表支的健</p><p>6、有助于祛除老年斑；</p><p>7、促进发育，强壮骨骼，维护皮肤、头发、牙齿、牙龈的健康；</p><p>8、有助于对肺气肿、甲状腺机能亢进的治疗。</p><p><b>维生素A建议每日摄取量：</b></p><p>就一般成年男性而言，5000IU(国际单位)(1IU=0.3mg)即可防止不足；女性则需要4000IU。在怀孕期间，最新的建议摄取量并不建议增加；但如果您是哺乳的妈妈，在前6个月中可额外增加2500IU，而在之后的6个月则减为额外摄取2000IU。</p><p><b>维生素A补充周期：</b></p><p>建议每日补充。</p><p>维生素A过量表现：</p><p>导常过敏、发热、腹泻、等症状，并且上述症状会在超量服用6小时后显现。</p><br/><p><strong>食物来历</strong></p><p>肝、胡萝卜、白萝卜等黄绿蔬菜、黄色水果、蛋类、牛奶、奶制品、鱼肝油等。</p><p><strong>需要人群</strong></p><p>簸地脂肪的吸收不良，如果有消化道疾病，胃肠部分切除者，往往会导致缺乏维生素A。这种情况常常发生在5岁以下的小孩身上，主要是因为饮食的摄取不足所致。\n",
       "维生素A对于长期配戴隐形眼镜或必须长时间注视电脑屏幕的人来说，更是重要的营养素。\n",
       "孕妇及哺乳妇女也很需要维生素A。</p><p><strong>缺乏症</strong></p><p>长期严重缺乏维生素A，会导致干眼症的夜盲症，甚至可导致失明。</p>\n",
       "</div>\n",
       "<div class=\"mo mt20\">\n",
       "<div>\n",
       "补维生素A(视黄醇)的食物有哪些<span style=\"color:#999;font-size:16px;float:right\">每百克中含量(单位：毫克)</span>\n",
       "</div>\n",
       "</div>\n",
       "<div class=\"recipeCategory_sub_R clear\">\n",
       "<ul>\n",
       "<li>\n",
       "<span class=\"category_s1\">\n",
       "<a href=\"https://www.meishichina.com/YuanLiao/NiuGan/\" target=\"_blank\" title=\"牛肝的做法\"><b>牛肝</b></a>\n",
       "</span>\n",
       "<span class=\"category_s2\">20220</span>\n",
       "</li>\n",
       "<li>\n",
       "<span class=\"category_s1\">\n",
       "<a href=\"https://www.meishichina.com/YuanLiao/JiGan/\" target=\"_blank\" title=\"鸡肝的做法\"><b>鸡肝</b></a>\n",
       "</span>\n",
       "<span class=\"category_s2\">10414</span>\n",
       "</li>\n",
       "<li>\n",
       "<span class=\"category_s1\">\n",
       "<a href=\"https://www.meishichina.com/YuanLiao/EGan/\" target=\"_blank\" title=\"鹅肝的做法\"><b>鹅肝</b></a>\n",
       "</span>\n",
       "<span class=\"category_s2\">6100</span>\n",
       "</li>\n",
       "<li>\n",
       "<span class=\"category_s1\">\n",
       "<a href=\"https://www.meishichina.com/YuanLiao/ZhuGan/\" target=\"_blank\" title=\"猪肝的做法\"><b>猪肝</b></a>\n",
       "</span>\n",
       "<span class=\"category_s2\">4972</span>\n",
       "</li>\n",
       "<li>\n",
       "<span class=\"category_s1\">\n",
       "<a href=\"https://www.meishichina.com/YuanLiao/QiuKui/\" target=\"_blank\" title=\"秋葵的做法\"><b>秋葵</b></a>\n",
       "</span>\n",
       "<span class=\"category_s2\">2818.00</span>\n",
       "</li>\n",
       "<li>\n",
       "<span class=\"category_s1\">\n",
       "<a href=\"https://www.meishichina.com/YuanLiao/GouQi/\" target=\"_blank\" title=\"枸杞的做法\"><b>枸杞</b></a>\n",
       "</span>\n",
       "<span class=\"category_s2\">1625</span>\n",
       "</li>\n",
       "<li>\n",
       "<span class=\"category_s1\">\n",
       "<a href=\"https://www.meishichina.com/YuanLiao/LianOu/\" target=\"_blank\" title=\"莲藕的做法\"><b>莲藕</b></a>\n",
       "</span>\n",
       "<span class=\"category_s2\">1592.00</span>\n",
       "</li>\n",
       "<li>\n",
       "<span class=\"category_s1\">\n",
       "<a href=\"https://www.meishichina.com/YuanLiao/XiLanHua/\" target=\"_blank\" title=\"西兰花的做法\"><b>西兰花</b></a>\n",
       "</span>\n",
       "<span class=\"category_s2\">1202</span>\n",
       "</li>\n",
       "<li>\n",
       "<span class=\"category_s1\">\n",
       "<a href=\"https://www.meishichina.com/YuanLiao/YaGan/\" target=\"_blank\" title=\"鸭肝的做法\"><b>鸭肝</b></a>\n",
       "</span>\n",
       "<span class=\"category_s2\">1040</span>\n",
       "</li>\n",
       "<li>\n",
       "<span class=\"category_s1\">\n",
       "<a href=\"https://www.meishichina.com/YuanLiao/JiXin/\" target=\"_blank\" title=\"鸡心的做法\"><b>鸡心</b></a>\n",
       "</span>\n",
       "<span class=\"category_s2\">910</span>\n",
       "</li>\n",
       "<li>\n",
       "<span class=\"category_s1\">\n",
       "<a href=\"https://www.meishichina.com/YuanLiao/BoCai/\" target=\"_blank\" title=\"菠菜的做法\"><b>菠菜</b></a>\n",
       "</span>\n",
       "<span class=\"category_s2\">487</span>\n",
       "</li>\n",
       "<li>\n",
       "<span class=\"category_s1\">\n",
       "<a href=\"https://www.meishichina.com/YuanLiao/DouMiao/\" target=\"_blank\" title=\"豆苗的做法\"><b>豆苗</b></a>\n",
       "</span>\n",
       "<span class=\"category_s2\">445</span>\n",
       "</li>\n",
       "<li>\n",
       "<span class=\"category_s1\">\n",
       "<a href=\"https://www.meishichina.com/YuanLiao/JiCai/\" target=\"_blank\" title=\"荠菜的做法\"><b>荠菜</b></a>\n",
       "</span>\n",
       "<span class=\"category_s2\">432</span>\n",
       "</li>\n",
       "<li>\n",
       "<span class=\"category_s1\">\n",
       "<a href=\"https://www.meishichina.com/YuanLiao/WoJvYe/\" target=\"_blank\" title=\"莴苣叶的做法\"><b>莴苣叶</b></a>\n",
       "</span>\n",
       "<span class=\"category_s2\">432.00</span>\n",
       "</li>\n",
       "<li>\n",
       "<span class=\"category_s1\">\n",
       "<a href=\"https://www.meishichina.com/YuanLiao/DouBanLaJiang/\" target=\"_blank\" title=\"豆瓣辣酱的做法\"><b>豆瓣辣酱</b></a>\n",
       "</span>\n",
       "<span class=\"category_s2\">417</span>\n",
       "</li>\n",
       "<li>\n",
       "<span class=\"category_s1\">\n",
       "<a href=\"https://www.meishichina.com/YuanLiao/ZiCai/\" target=\"_blank\" title=\"紫菜的做法\"><b>紫菜</b></a>\n",
       "</span>\n",
       "<span class=\"category_s2\">403</span>\n",
       "</li>\n",
       "<li>\n",
       "<span class=\"category_s1\">\n",
       "<a href=\"https://www.meishichina.com/YuanLiao/NiuPai/\" target=\"_blank\" title=\"牛排的做法\"><b>牛排</b></a>\n",
       "</span>\n",
       "<span class=\"category_s2\">371.30</span>\n",
       "</li>\n",
       "<li>\n",
       "<span class=\"category_s1\">\n",
       "<a href=\"https://www.meishichina.com/YuanLiao/HuangHuaCai/\" target=\"_blank\" title=\"黄花菜的做法\"><b>黄花菜</b></a>\n",
       "</span>\n",
       "<span class=\"category_s2\">357</span>\n",
       "</li>\n",
       "<li>\n",
       "<span class=\"category_s1\">\n",
       "<a href=\"https://www.meishichina.com/YuanLiao/XianCai/\" target=\"_blank\" title=\"苋菜的做法\"><b>苋菜</b></a>\n",
       "</span>\n",
       "<span class=\"category_s2\">352</span>\n",
       "</li>\n",
       "<li>\n",
       "<span class=\"category_s1\">\n",
       "<a href=\"https://www.meishichina.com/YuanLiao/MaLanTou/\" target=\"_blank\" title=\"马兰头的做法\"><b>马兰头</b></a>\n",
       "</span>\n",
       "<span class=\"category_s2\">340</span>\n",
       "</li>\n",
       "</ul>\n",
       "</div>\n",
       "</div>\n",
       "<div class=\"space_right\">\n",
       "<div class=\"ui_title mt20\">\n",
       "<div class=\"ui_title_wrap\">\n",
       "<h3 class=\"on\">营养素</h3>\n",
       "</div>\n",
       "</div>\n",
       "<div class=\"gongxiao_r\">\n",
       "<div>\n",
       "<a href=\"https://www.meishichina.com/yingyang/VitaminA/\" target=\"_blank\" title=\"维生素A(视黄醇)的作用及功能\">维生素A</a>\n",
       "<a href=\"https://www.meishichina.com/yingyang/VitaminB1/\" target=\"_blank\" title=\"维生素B1(硫胺素)的作用及功能\">维生素B1</a>\n",
       "<a href=\"https://www.meishichina.com/yingyang/VitaminB2/\" target=\"_blank\" title=\"维生素B2(核黄素)的作用及功能\">维生素B2</a>\n",
       "<a href=\"https://www.meishichina.com/yingyang/VitaminB3/\" target=\"_blank\" title=\"维生素B3(烟酸、尼克酸)的作用及功能\">维生素B3</a>\n",
       "<a href=\"https://www.meishichina.com/yingyang/VitaminB5/\" target=\"_blank\" title=\"维生素B5(泛酸)的作用及功能\">维生素B5</a>\n",
       "<a href=\"https://www.meishichina.com/yingyang/VitaminB6/\" target=\"_blank\" title=\"维生素B6(吡哆素)的作用及功能\">维生素B6</a>\n",
       "<a href=\"https://www.meishichina.com/yingyang/VitaminC/\" target=\"_blank\" title=\"维生素C(抗坏血酸)的作用及功能\">维生素C</a>\n",
       "<a href=\"https://www.meishichina.com/yingyang/VitaminD/\" target=\"_blank\" title=\"维生素D(骨化醇)的作用及功能\">维生素D</a>\n",
       "<a href=\"https://www.meishichina.com/yingyang/VitaminE/\" target=\"_blank\" title=\"维生素E(生育酚)的作用及功能\">维生素E</a>\n",
       "<a href=\"https://www.meishichina.com/yingyang/VitaminH/\" target=\"_blank\" title=\"维生素H(生物素)的作用及功能\">维生素H</a>\n",
       "<a href=\"https://www.meishichina.com/yingyang/VitaminK/\" target=\"_blank\" title=\"维生素K(止血维生素)的作用及功能\">维生素K</a>\n",
       "<a href=\"https://www.meishichina.com/yingyang/VitaminP/\" target=\"_blank\" title=\"维生素P(芦丁)的作用及功能\">维生素P</a>\n",
       "<a href=\"https://www.meishichina.com/yingyang/Vitamin B11/\" target=\"_blank\" title=\"维生素B11(叶酸)的作用及功能\">维生素B11</a>\n",
       "<a href=\"https://www.meishichina.com/yingyang/Vitamin B12/\" target=\"_blank\" title=\"维生素B12(钴胺素)的作用及功能\">维生素B12</a>\n",
       "</div>\n",
       "</div>\n",
       "<div class=\"ui_title mt20\">\n",
       "<div class=\"ui_title_wrap\">\n",
       "<h3 class=\"on\">矿物质</h3>\n",
       "</div>\n",
       "</div>\n",
       "<div class=\"gongxiao_r\">\n",
       "<div>\n",
       "<a href=\"https://www.meishichina.com/yingyang/CalciumshotNmmdia/\" target=\"_blank\" title=\"钙的作用及功能\">钙</a>\n",
       "<a href=\"https://www.meishichina.com/yingyang/Iron/\" target=\"_blank\" title=\"铁的作用及功能\">铁</a>\n",
       "<a href=\"https://www.meishichina.com/yingyang/Phosphorus/\" target=\"_blank\" title=\"磷的作用及功能\">磷</a>\n",
       "<a href=\"https://www.meishichina.com/yingyang/Potassium/\" target=\"_blank\" title=\"钾的作用及功能\">钾</a>\n",
       "<a href=\"https://www.meishichina.com/yingyang/Sodium/\" target=\"_blank\" title=\"钠的作用及功能\">钠</a>\n",
       "<a href=\"https://www.meishichina.com/yingyang/Iodine/\" target=\"_blank\" title=\"碘的作用及功能\">碘</a>\n",
       "<a href=\"https://www.meishichina.com/yingyang/Energy/\" target=\"_blank\" title=\"能量的作用及功能\">能量</a>\n",
       "<a href=\"https://www.meishichina.com/yingyang/Magnesium/\" target=\"_blank\" title=\"镁的作用及功能\">镁</a>\n",
       "<a href=\"https://www.meishichina.com/yingyang/Zinc/\" target=\"_blank\" title=\"锌的作用及功能\">锌</a>\n",
       "<a href=\"https://www.meishichina.com/yingyang/Selenium/\" target=\"_blank\" title=\"硒的作用及功能\">硒</a>\n",
       "<a href=\"https://www.meishichina.com/yingyang/protein/\" target=\"_blank\" title=\"蛋白质的作用及功能\">蛋白质</a>\n",
       "<a href=\"https://www.meishichina.com/yingyang/Copper/\" target=\"_blank\" title=\"铜的作用及功能\">铜</a>\n",
       "<a href=\"https://www.meishichina.com/yingyang/Fluorine/\" target=\"_blank\" title=\"氟的作用及功能\">氟</a>\n",
       "<a href=\"https://www.meishichina.com/yingyang/Fat/\" target=\"_blank\" title=\"脂肪的作用及功能\">脂肪</a>\n",
       "<a href=\"https://www.meishichina.com/yingyang/Chlorine/\" target=\"_blank\" title=\"氯的作用及功能\">氯</a>\n",
       "<a href=\"https://www.meishichina.com/yingyang/Sulfur/\" target=\"_blank\" title=\"硫的作用及功能\">硫</a>\n",
       "<a href=\"https://www.meishichina.com/yingyang/Manganese/\" target=\"_blank\" title=\"锰的作用及功能\">锰</a>\n",
       "<a href=\"https://www.meishichina.com/yingyang/Molybdenum/\" target=\"_blank\" title=\"钼的作用及功能\">钼</a>\n",
       "<a href=\"https://www.meishichina.com/yingyang/chromium/\" target=\"_blank\" title=\"铬的作用及功能\">铬</a>\n",
       "<a href=\"https://www.meishichina.com/yingyang/Cobalt/\" target=\"_blank\" title=\"钴的作用及功能\">钴</a>\n",
       "<a href=\"https://www.meishichina.com/yingyang/Boron/\" target=\"_blank\" title=\"硼的作用及功能\">硼</a>\n",
       "<a href=\"https://www.meishichina.com/yingyang/Vanadium/\" target=\"_blank\" title=\"钒的作用及功能\">钒</a>\n",
       "<a href=\"https://www.meishichina.com/yingyang/Carbohydrate/\" target=\"_blank\" title=\"碳水化物的作用及功能\">碳水化物</a>\n",
       "</div>\n",
       "</div>\n",
       "</div>\n",
       "</div>\n",
       "</div>\n",
       "<style type=\"text/css\">\n",
       ".footer-area{padding:10px 0}.footer-area .w{padding-top:10px;border-top:1px solid #e8e8e8}.footer-area a{color:#666}.footer-area a:hover{color:#ff6767}.ft1{clear:none;float:left;font-size:11px;color:#666;width:680px;padding-top:10px}.ft1 .c3b{color:#c90;font-size:14px;font-weight:700;margin-bottom:6px}.ft1 .c3b a{color:#f50}.ft1 .c3c{color:#aaa;font-size:12px;margin-bottom:6px}.ft2,.ft3,.ft4{clear:none;float:right;text-align:center}.ft3{margin:0 25px}\n",
       "</style>\n",
       "<div class=\"footer-area clear\" id=\"J_footer_box\">\n",
       "<div class=\"w\">\n",
       "<div class=\"ft1\">\n",
       "<p class=\"c3b\"><a href=\"//www.meishichina.com/\" target=\"_blank\" title=\"美食天下 - 让吃更美好\">美食天下 - 让吃更美好！</a></p>\n",
       "<p class=\"c3c\">\n",
       "<a href=\"//home.meishichina.com/recipe.html\" target=\"_blank\" title=\"菜谱\">菜谱</a> ·\n",
       "<a href=\"//www.meishichina.com/YuanLiao/\" target=\"_blank\" title=\"食材\">食材</a> ·\n",
       "<a href=\"//www.meishichina.com/mofang/\" target=\"_blank\" title=\"美食魔方\">魔方</a> ·\n",
       "<a href=\"//www.meishichina.com/minisite/red/\" target=\"_blank\" title=\"关于我们\">关于我们</a> ·\n",
       "<a href=\"//www.meishichina.com/minisite/red/contact/\" target=\"_blank\" title=\"联系我们\">联系我们</a> ·\n",
       "<a href=\"//www.meishichina.com/minisite/red/joinus/\" target=\"_blank\" title=\"加入我们\">加入我们</a> ·\n",
       "<a href=\"//www.meishichina.com/minisite/red/copyright/\" target=\"_blank\" title=\"服务声明\">服务声明</a> ·\n",
       "<a href=\"//www.meishichina.com/minisite/red/links/\" target=\"_blank\" title=\"友情链接\">友情链接</a> ·\n",
       "<a href=\"//www.meishichina.com/minisite/red/sitemap/\" target=\"_blank\" title=\"网站地图\">网站地图</a> ·\n",
       "<a href=\"//www.meishichina.com/Mobile/\" target=\"_blank\" title=\"移动应用\">移动应用</a>\n",
       "</p>\n",
       "<p>© 2004-2021 美食天下 保留所有权利 - 京ICP证090244号</p>\n",
       "</div>\n",
       "<div class=\"ft4\">\n",
       "<img class=\"imgLoad\" src=\"//static.meishichina.com/v6/img/footer/weixin.png\" title=\"微信公众号\"/>微信公众号\n",
       "</div>\n",
       "<div class=\"ft3\">\n",
       "<img class=\"imgLoad\" src=\"//static.meishichina.com/v6/img/model/msc_app.png\" title=\"手机客户端\" width=\"82\"/>手机客户端\n",
       "</div>\n",
       "</div>\n",
       "</div>\n",
       "<script src=\"//static.meishichina.com/v6/js/lib/all.js?v1=20180922\" type=\"text/javascript\"></script>\n",
       "<script>\n",
       "$(\"li.top_bar_more\").hoverDelay(function(){$(\"li.top_bar_more div\").show()},function(){$(\"li.top_bar_more div\").hide()},200,200);var _hmt=_hmt||[];(function(){var hm=document.createElement(\"script\");hm.src=\"//hm.baidu.com/hm.js?fb9cd9dcdda23cee0c7357db9be24acb\";var s=document.getElementsByTagName(\"script\")[0];s.parentNode.insertBefore(hm,s)})();\n",
       "</script>\n",
       "<script type=\"text/javascript\">\t\n",
       "msc.goTop.init();\n",
       "msc.user.init();\n",
       "$(\"img.imgLoad\").imgLoad();\n",
       "\n",
       "\t$(window).scroll(function() {\n",
       "\t\tvar omng = $(\".keyshow\").eq(0).offset();\n",
       "\t\tvar jtl = $(\"#smnbk\").offset();\n",
       "\t\t if(omng){\n",
       "\t\tif (omng.top < $(document).scrollTop() + 40) {\n",
       "\t\t\t$(\".keyshow\").css({\n",
       "\t\t\t\tposition: \"fixed\",\n",
       "\t\t\t\ttop: 40,\n",
       "\t\t\t\tmargin: 0,\n",
       "\t\t\t\tleft: omng.left\n",
       "\t\t\t});\n",
       "\t\t} else if (omng.top < jtl.top + 200) {\n",
       "\t\t\t$(\".keyshow\").css({\n",
       "\t\t\t\tposition: \"static\",\n",
       "\t\t\t\tmargin: \"5px 0 0 0\"\n",
       "\t\t\t});\n",
       "\t\t}\n",
       "\t\t}\n",
       "\t});\n",
       "$(\"#search\").click(function(){var q=$(\"#q\").val().replace(/\\s+/g,\"\").replace(\"　\",\"\");window.location.href='https://home.meishichina.com/search/'+(q==\"\"?'':q+'/')});$(\"#q\").keydown(function(e){if(e.keyCode==13)$(\"#search\").click()});\n",
       "</script>\n",
       "</body>\n",
       "</html>"
      ]
     },
     "execution_count": 26,
     "metadata": {},
     "output_type": "execute_result"
    }
   ],
   "source": [
    "soup"
   ]
  }
 ],
 "metadata": {
  "kernelspec": {
   "display_name": "Python 3",
   "language": "python",
   "name": "python3"
  },
  "language_info": {
   "codemirror_mode": {
    "name": "ipython",
    "version": 3
   },
   "file_extension": ".py",
   "mimetype": "text/x-python",
   "name": "python",
   "nbconvert_exporter": "python",
   "pygments_lexer": "ipython3",
   "version": "3.8.5"
  },
  "toc": {
   "base_numbering": 1,
   "nav_menu": {},
   "number_sections": true,
   "sideBar": true,
   "skip_h1_title": false,
   "title_cell": "Table of Contents",
   "title_sidebar": "Contents",
   "toc_cell": false,
   "toc_position": {},
   "toc_section_display": true,
   "toc_window_display": false
  },
  "varInspector": {
   "cols": {
    "lenName": 16,
    "lenType": 16,
    "lenVar": 40
   },
   "kernels_config": {
    "python": {
     "delete_cmd_postfix": "",
     "delete_cmd_prefix": "del ",
     "library": "var_list.py",
     "varRefreshCmd": "print(var_dic_list())"
    },
    "r": {
     "delete_cmd_postfix": ") ",
     "delete_cmd_prefix": "rm(",
     "library": "var_list.r",
     "varRefreshCmd": "cat(var_dic_list()) "
    }
   },
   "types_to_exclude": [
    "module",
    "function",
    "builtin_function_or_method",
    "instance",
    "_Feature"
   ],
   "window_display": false
  }
 },
 "nbformat": 4,
 "nbformat_minor": 4
}
